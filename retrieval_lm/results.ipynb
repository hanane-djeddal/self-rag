{
 "cells": [
  {
   "cell_type": "code",
   "execution_count": 4,
   "metadata": {},
   "outputs": [],
   "source": [
    "import json\n",
    "\n",
    "with open('selfrag_first_test.json') as f:\n",
    "    d = json.load(f)"
   ]
  },
  {
   "cell_type": "code",
   "execution_count": 5,
   "metadata": {},
   "outputs": [
    {
     "data": {
      "text/plain": [
       "716"
      ]
     },
     "execution_count": 5,
     "metadata": {},
     "output_type": "execute_result"
    }
   ],
   "source": [
    "len(d[\"data\"])"
   ]
  },
  {
   "cell_type": "code",
   "execution_count": 8,
   "metadata": {},
   "outputs": [
    {
     "name": "stdout",
     "output_type": "stream",
     "text": [
      "dict_keys(['query_id', 'query', 'quotes', 'answers', 'output', 'docs', 'intermediate'])\n",
      "dict_keys(['query_id', 'query', 'quotes', 'answers', 'output', 'docs', 'intermediate'])\n",
      "dict_keys(['query_id', 'query', 'quotes', 'answers', 'output', 'docs', 'intermediate'])\n",
      "dict_keys(['query_id', 'query', 'quotes', 'answers', 'output', 'docs', 'intermediate'])\n",
      "3\n"
     ]
    }
   ],
   "source": [
    "for i in range(len(d)):\n",
    "    print(d[\"data\"][i].keys())\n",
    "\n",
    "print(i)"
   ]
  },
  {
   "cell_type": "code",
   "execution_count": 9,
   "metadata": {},
   "outputs": [],
   "source": [
    "import pandas as pd\n",
    "df = pd.json_normalize(d[\"data\"])"
   ]
  },
  {
   "cell_type": "code",
   "execution_count": 11,
   "metadata": {},
   "outputs": [
    {
     "data": {
      "text/html": [
       "<div>\n",
       "<style scoped>\n",
       "    .dataframe tbody tr th:only-of-type {\n",
       "        vertical-align: middle;\n",
       "    }\n",
       "\n",
       "    .dataframe tbody tr th {\n",
       "        vertical-align: top;\n",
       "    }\n",
       "\n",
       "    .dataframe thead th {\n",
       "        text-align: right;\n",
       "    }\n",
       "</style>\n",
       "<table border=\"1\" class=\"dataframe\">\n",
       "  <thead>\n",
       "    <tr style=\"text-align: right;\">\n",
       "      <th></th>\n",
       "      <th>query_id</th>\n",
       "      <th>query</th>\n",
       "      <th>quotes</th>\n",
       "      <th>answers</th>\n",
       "      <th>generated_text</th>\n",
       "      <th>docs</th>\n",
       "      <th>intermediate</th>\n",
       "    </tr>\n",
       "  </thead>\n",
       "  <tbody>\n",
       "    <tr>\n",
       "      <th>0</th>\n",
       "      <td>3120</td>\n",
       "      <td>Where did Jehovah's Witnesses originate?</td>\n",
       "      <td>[{'idx': 1, 'docid': '13949533#3', 'text': 'Je...</td>\n",
       "      <td>[{'answer': 'Jehovah's Witnesses originated as...</td>\n",
       "      <td>Jehovah's Witnesses originated as a branch of ...</td>\n",
       "      <td>[{'idx': 2, 'docid': '3897876#0', 'text': 'Jeh...</td>\n",
       "      <td>[[Retrieval], Jehovah's Witnesses originated a...</td>\n",
       "    </tr>\n",
       "    <tr>\n",
       "      <th>1</th>\n",
       "      <td>3129</td>\n",
       "      <td>What is a conurbation?</td>\n",
       "      <td>[{'idx': 1, 'docid': '265943#0', 'text': 'A co...</td>\n",
       "      <td>[{'answer': 'A conurbation is a region compris...</td>\n",
       "      <td>A conurbation is a region comprising a number ...</td>\n",
       "      <td>[{'idx': 1, 'docid': '265943#0', 'text': 'A co...</td>\n",
       "      <td>[[Retrieval], A conurbation is a region compri...</td>\n",
       "    </tr>\n",
       "  </tbody>\n",
       "</table>\n",
       "</div>"
      ],
      "text/plain": [
       "  query_id                                     query  \\\n",
       "0     3120  Where did Jehovah's Witnesses originate?   \n",
       "1     3129                    What is a conurbation?   \n",
       "\n",
       "                                              quotes  \\\n",
       "0  [{'idx': 1, 'docid': '13949533#3', 'text': 'Je...   \n",
       "1  [{'idx': 1, 'docid': '265943#0', 'text': 'A co...   \n",
       "\n",
       "                                             answers  \\\n",
       "0  [{'answer': 'Jehovah's Witnesses originated as...   \n",
       "1  [{'answer': 'A conurbation is a region compris...   \n",
       "\n",
       "                                      generated_text  \\\n",
       "0  Jehovah's Witnesses originated as a branch of ...   \n",
       "1  A conurbation is a region comprising a number ...   \n",
       "\n",
       "                                                docs  \\\n",
       "0  [{'idx': 2, 'docid': '3897876#0', 'text': 'Jeh...   \n",
       "1  [{'idx': 1, 'docid': '265943#0', 'text': 'A co...   \n",
       "\n",
       "                                        intermediate  \n",
       "0  [[Retrieval], Jehovah's Witnesses originated a...  \n",
       "1  [[Retrieval], A conurbation is a region compri...  "
      ]
     },
     "execution_count": 11,
     "metadata": {},
     "output_type": "execute_result"
    }
   ],
   "source": [
    "df.rename(columns={'output': 'generated_text'}, inplace=True)\n",
    "df.head(2)"
   ]
  },
  {
   "cell_type": "code",
   "execution_count": 25,
   "metadata": {},
   "outputs": [],
   "source": [
    "#d[\"data\"][0][\"row_output\"]"
   ]
  },
  {
   "cell_type": "code",
   "execution_count": null,
   "metadata": {},
   "outputs": [],
   "source": [
    "row_output"
   ]
  }
 ],
 "metadata": {
  "kernelspec": {
   "display_name": "llms-env",
   "language": "python",
   "name": "python3"
  },
  "language_info": {
   "codemirror_mode": {
    "name": "ipython",
    "version": 3
   },
   "file_extension": ".py",
   "mimetype": "text/x-python",
   "name": "python",
   "nbconvert_exporter": "python",
   "pygments_lexer": "ipython3",
   "version": "3.10.13"
  }
 },
 "nbformat": 4,
 "nbformat_minor": 2
}
